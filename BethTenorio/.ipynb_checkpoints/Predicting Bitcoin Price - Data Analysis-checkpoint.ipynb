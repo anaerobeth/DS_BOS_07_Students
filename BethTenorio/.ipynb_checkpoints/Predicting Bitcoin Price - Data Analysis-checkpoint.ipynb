{
 "cells": [
  {
   "cell_type": "markdown",
   "metadata": {},
   "source": [
    "#Predicting Bitcoin Price"
   ]
  },
  {
   "cell_type": "markdown",
   "metadata": {},
   "source": [
    "##Data Analysis"
   ]
  },
  {
   "cell_type": "markdown",
   "metadata": {},
   "source": [
    "Use the exported data from 'Data Collection and Exploration' notebook to create a model for predicting the next day market price of bitcoin."
   ]
  },
  {
   "cell_type": "markdown",
   "metadata": {},
   "source": [
    "###Imports"
   ]
  },
  {
   "cell_type": "code",
   "execution_count": 1,
   "metadata": {
    "collapsed": true
   },
   "outputs": [],
   "source": [
    "import pandas as pd\n",
    "import numpy as np\n",
    "import statsmodels.formula.api as smf\n",
    "import random\n",
    "from sklearn.linear_model import LinearRegression\n",
    "from datetime import datetime\n",
    "from sklearn.cross_validation import train_test_split\n",
    "from sklearn.linear_model import RidgeCV\n",
    "\n",
    "import matplotlib.pyplot as plt\n",
    "%matplotlib inline"
   ]
  },
  {
   "cell_type": "markdown",
   "metadata": {},
   "source": [
    "###Data Munging"
   ]
  },
  {
   "cell_type": "markdown",
   "metadata": {},
   "source": [
    "Create the outcome variable `next_day`."
   ]
  },
  {
   "cell_type": "code",
   "execution_count": 2,
   "metadata": {
    "collapsed": false
   },
   "outputs": [
    {
     "name": "stdout",
     "output_type": "stream",
     "text": [
      "(2564, 32)\n"
     ]
    }
   ],
   "source": [
    "data = pd.read_csv('bitcoin_price.csv', index_col='trading_day')\n",
    "\n",
    "next_day = data['price_usd'].iloc[1:]\n",
    "data = data.iloc[:-1,:]\n",
    "data['next_day'] = next_day.values\n",
    "print data.shape"
   ]
  },
  {
   "cell_type": "markdown",
   "metadata": {},
   "source": [
    "Create features for moving averages for price_usd."
   ]
  },
  {
   "cell_type": "code",
   "execution_count": 3,
   "metadata": {
    "collapsed": false
   },
   "outputs": [],
   "source": [
    "data['ma_price_3'] = pd.rolling_mean(data['price_usd'], 3)\n",
    "data['ma_price_7'] = pd.rolling_mean(data['price_usd'], 7)\n"
   ]
  },
  {
   "cell_type": "markdown",
   "metadata": {},
   "source": [
    "Read in the Google Trends result and merge with the main data set."
   ]
  },
  {
   "cell_type": "markdown",
   "metadata": {},
   "source": [
    "<img src='bitcoin_trend2.png' width=400px>"
   ]
  },
  {
   "cell_type": "code",
   "execution_count": 4,
   "metadata": {
    "collapsed": false
   },
   "outputs": [],
   "source": [
    "def merge_columns(main, other):\n",
    "    result = pd.merge(left=main,right=other, how='outer', left_on='date', right_on='date')\n",
    "    \n",
    "    return result\n",
    "\n",
    "\n",
    "trends = pd.read_csv('bitcoin_trends.csv')\n",
    "data = merge_columns(data, trends)"
   ]
  },
  {
   "cell_type": "markdown",
   "metadata": {},
   "source": [
    "Select data subset of interest. Early timepoints with very low or sparse data are excluded from analysis."
   ]
  },
  {
   "cell_type": "code",
   "execution_count": 5,
   "metadata": {
    "collapsed": false
   },
   "outputs": [
    {
     "name": "stdout",
     "output_type": "stream",
     "text": [
      "(1095, 35)\n"
     ]
    }
   ],
   "source": [
    "data = data[(data.date >= '2013-01-01') & (data.date <= '2015-12-31')]\n",
    "print data.shape"
   ]
  },
  {
   "cell_type": "code",
   "execution_count": 6,
   "metadata": {
    "collapsed": false
   },
   "outputs": [
    {
     "name": "stdout",
     "output_type": "stream",
     "text": [
      "(1094, 40)\n"
     ]
    }
   ],
   "source": [
    "data['exchange_vol_usd_log'] = np.log10(data['exchange_vol_usd'])\n",
    "data['market_cap_log'] = np.log10(data['market_cap'])\n",
    "data['transaction_diff'] = data['total_transactions'] - data['total_transactions'].shift(-1)\n",
    "data['bitcoin_diff'] = data['total_bitcoins'] - data['total_bitcoins'].shift(-1)\n",
    "data['blockchain_diff'] = data['blockchain_size'] - data['blockchain_size'].shift(-1)\n",
    "\n",
    "data = data.dropna()\n",
    "print data.shape"
   ]
  },
  {
   "cell_type": "markdown",
   "metadata": {},
   "source": [
    "###Correlations"
   ]
  },
  {
   "cell_type": "markdown",
   "metadata": {},
   "source": [
    "Based on the pairplot from the previous section, high correlations (>0.8) were identified between the ff. independent variables: \n",
    "\n",
    "- Group 1: block_size, block_transactions, blockchain_size, difficulty, hash_rate, all_transactions, sub10000_transactions, sub10_transactions, sub10_transactions, sub100_transactions, sub1000_transactions, short_transactions, nonpopular_transactions, unique_addresses, and total_transactions\n",
    "\n",
    "- Group 2: transaction_cost, price_usd, miners_revenue, deficit, and market_cap\n",
    "\n",
    "Some features within the same group will be excluded during feature selection to avoid multicollinearity among independent variables."
   ]
  },
  {
   "cell_type": "markdown",
   "metadata": {},
   "source": [
    "Mid to high correlations (<0.4) were identified between the outcome `next_day` and the ff. independent variables:"
   ]
  },
  {
   "cell_type": "code",
   "execution_count": 7,
   "metadata": {
    "collapsed": false,
    "scrolled": false
   },
   "outputs": [
    {
     "name": "stdout",
     "output_type": "stream",
     "text": [
      "exchange_vol_usd        0.411838\n",
      "percent_cost            0.429024\n",
      "exchange_vol_usd_log    0.516363\n",
      "transaction_fees_usd    0.561606\n",
      "market_cap_log          0.843815\n",
      "transaction_cost        0.894501\n",
      "miners_revenue          0.976649\n",
      "ma_price_7              0.986287\n",
      "market_cap              0.988849\n",
      "ma_price_3              0.992316\n",
      "price_usd               0.995632\n",
      "next_day                1.000000\n",
      "Name: next_day, dtype: float64 deficit            -0.976566\n",
      "transaction_fees   -0.475625\n",
      "Name: next_day, dtype: float64\n"
     ]
    }
   ],
   "source": [
    "corrs = data.corr()['next_day'].sort_values()\n",
    "positive_corrs = corrs[corrs > 0.4]\n",
    "negative_corrs = corrs[corrs < -0.4]\n",
    "print positive_corrs, negative_corrs\n"
   ]
  },
  {
   "cell_type": "code",
   "execution_count": 8,
   "metadata": {
    "collapsed": false
   },
   "outputs": [
    {
     "name": "stdout",
     "output_type": "stream",
     "text": [
      "      next_day  ma_price_7    market_cap  exchange_vol_usd  percent_cost  \\\n",
      "1459  13.40000   13.558540  1.439809e+08     385760.190995      3.488328   \n",
      "1460  13.46400   13.558697  1.423237e+08     185387.359079      1.644697   \n",
      "1461  13.48986   13.557840  1.430574e+08     289720.324444      2.554070   \n",
      "1462  13.54800   13.534977  1.433797e+08     324014.732335      1.657939   \n",
      "1463  13.52999   13.517549  1.440481e+08     330088.300961      1.914935   \n",
      "\n",
      "      transaction_fees  transaction_fees_usd  price_usd  ma_price_3  \\\n",
      "1459         23.374769            316.985249   13.56100   13.573660   \n",
      "1460         29.181981            391.038547   13.40000   13.517000   \n",
      "1461         35.682688            480.431709   13.46400   13.475000   \n",
      "1462         42.898405            578.693484   13.48986   13.451287   \n",
      "1463         30.064028            407.307446   13.54800   13.500620   \n",
      "\n",
      "           deficit  miners_revenue  transaction_cost  market_cap_log  \\\n",
      "1459 -55283.114751     55912.00300          1.953599        8.158305   \n",
      "1460 -51868.961453     52648.60000          1.350449        8.153277   \n",
      "1461 -53375.568290     54327.24000          1.311840        8.155510   \n",
      "1462 -46973.063016     48118.33062          0.963793        8.156488   \n",
      "1463 -50058.992554     50872.74000          1.306741        8.158508   \n",
      "\n",
      "      exchange_vol_usd_log  \n",
      "1459              5.586317  \n",
      "1460              5.268080  \n",
      "1461              5.461979  \n",
      "1462              5.510565  \n",
      "1463              5.518630  \n"
     ]
    },
    {
     "name": "stderr",
     "output_type": "stream",
     "text": [
      "/Users/Tenorio/anaconda/lib/python2.7/site-packages/IPython/kernel/__main__.py:2: FutureWarning: using '+' to provide set union with Indexes is deprecated, use '|' or .union()\n",
      "  from IPython.kernel.zmq import kernelapp as app\n"
     ]
    }
   ],
   "source": [
    "cols = positive_corrs.index\n",
    "cols += negative_corrs.index\n",
    "selected_columns = list(set(cols) - set(['Unnamed: 0']))\n",
    "\n",
    "df = data[selected_columns]\n",
    "print df.head()"
   ]
  },
  {
   "cell_type": "markdown",
   "metadata": {},
   "source": [
    "### Ordinary Least-Squares Regression Model"
   ]
  },
  {
   "cell_type": "code",
   "execution_count": 9,
   "metadata": {
    "collapsed": false
   },
   "outputs": [
    {
     "name": "stdout",
     "output_type": "stream",
     "text": [
      "['next_day', 'ma_price_7', 'market_cap', 'exchange_vol_usd', 'percent_cost', 'transaction_fees', 'transaction_fees_usd', 'price_usd', 'ma_price_3', 'deficit', 'miners_revenue', 'transaction_cost', 'market_cap_log', 'exchange_vol_usd_log']\n"
     ]
    }
   ],
   "source": [
    "print selected_columns"
   ]
  },
  {
   "cell_type": "code",
   "execution_count": 10,
   "metadata": {
    "collapsed": false
   },
   "outputs": [
    {
     "name": "stdout",
     "output_type": "stream",
     "text": [
      "                            OLS Regression Results                            \n",
      "==============================================================================\n",
      "Dep. Variable:               next_day   R-squared:                       0.992\n",
      "Model:                            OLS   Adj. R-squared:                  0.991\n",
      "Method:                 Least Squares   F-statistic:                 1.052e+04\n",
      "Date:                Mon, 25 Jan 2016   Prob (F-statistic):               0.00\n",
      "Time:                        11:39:56   Log-Likelihood:                -4840.1\n",
      "No. Observations:                1094   AIC:                             9706.\n",
      "Df Residuals:                    1081   BIC:                             9771.\n",
      "Df Model:                          12                                         \n",
      "Covariance Type:            nonrobust                                         \n",
      "========================================================================================\n",
      "                           coef    std err          t      P>|t|      [95.0% Conf. Int.]\n",
      "----------------------------------------------------------------------------------------\n",
      "Intercept              -19.2868     36.134     -0.534      0.594       -90.188    51.615\n",
      "ma_price_7               0.0300      0.037      0.810      0.418        -0.043     0.103\n",
      "market_cap            1.924e-09   3.86e-09      0.499      0.618     -5.64e-09  9.49e-09\n",
      "market_cap_log           1.8550      4.210      0.441      0.660        -6.405    10.115\n",
      "percent_cost            -0.2435      0.653     -0.373      0.709        -1.525     1.038\n",
      "transaction_fees        -0.1536      0.069     -2.239      0.025        -0.288    -0.019\n",
      "transaction_fees_usd     0.0108      0.011      1.026      0.305        -0.010     0.031\n",
      "price_usd                1.0681      0.067     15.965      0.000         0.937     1.199\n",
      "ma_price_3              -0.1362      0.062     -2.180      0.029        -0.259    -0.014\n",
      "deficit                 -0.0049      0.005     -0.928      0.354        -0.015     0.005\n",
      "miners_revenue          -0.0049      0.005     -0.930      0.353        -0.015     0.005\n",
      "transaction_cost         0.5859      0.210      2.796      0.005         0.175     0.997\n",
      "exchange_vol_usd_log     1.4762      2.133      0.692      0.489        -2.709     5.661\n",
      "==============================================================================\n",
      "Omnibus:                      289.102   Durbin-Watson:                   1.845\n",
      "Prob(Omnibus):                  0.000   Jarque-Bera (JB):            12272.568\n",
      "Skew:                          -0.410   Prob(JB):                         0.00\n",
      "Kurtosis:                      19.388   Cond. No.                     3.03e+11\n",
      "==============================================================================\n",
      "\n",
      "Warnings:\n",
      "[1] Standard Errors assume that the covariance matrix of the errors is correctly specified.\n",
      "[2] The condition number is large, 3.03e+11. This might indicate that there are\n",
      "strong multicollinearity or other numerical problems.\n"
     ]
    }
   ],
   "source": [
    "lm = smf.ols('next_day ~  ma_price_7 + market_cap + market_cap_log + percent_cost + transaction_fees + transaction_fees_usd + price_usd + ma_price_3 + deficit + miners_revenue + transaction_cost + exchange_vol_usd_log', data=df)\n",
    "fit = lm.fit()\n",
    "print fit.summary()"
   ]
  },
  {
   "cell_type": "markdown",
   "metadata": {},
   "source": [
    "Next step is to look at the P-values of each feature to determine suitability for inclusion in further analysis. The variables exchange_vol_usd and transaction_fees_usd have high P values and may be removed to simplify the model. In addition, a large condition number suggests strong multicollinearity which may be related to due the direct relationships among blockchain_size, total_bitcoins and total_transactions, so they will be excluded from the simplified model. "
   ]
  },
  {
   "cell_type": "code",
   "execution_count": 30,
   "metadata": {
    "collapsed": false
   },
   "outputs": [
    {
     "name": "stdout",
     "output_type": "stream",
     "text": [
      "                            OLS Regression Results                            \n",
      "==============================================================================\n",
      "Dep. Variable:               next_day   R-squared:                       0.991\n",
      "Model:                            OLS   Adj. R-squared:                  0.991\n",
      "Method:                 Least Squares   F-statistic:                 6.204e+04\n",
      "Date:                Mon, 25 Jan 2016   Prob (F-statistic):               0.00\n",
      "Time:                        11:45:24   Log-Likelihood:                -4854.2\n",
      "No. Observations:                1094   AIC:                             9714.\n",
      "Df Residuals:                    1091   BIC:                             9729.\n",
      "Df Model:                           2                                         \n",
      "Covariance Type:            nonrobust                                         \n",
      "================================================================================\n",
      "                   coef    std err          t      P>|t|      [95.0% Conf. Int.]\n",
      "--------------------------------------------------------------------------------\n",
      "Intercept        2.0141      1.319      1.527      0.127        -0.574     4.602\n",
      "price_usd        0.9946      0.003    317.866      0.000         0.988     1.001\n",
      "percent_cost     0.0502      0.420      0.119      0.905        -0.774     0.875\n",
      "==============================================================================\n",
      "Omnibus:                      296.231   Durbin-Watson:                   1.698\n",
      "Prob(Omnibus):                  0.000   Jarque-Bera (JB):            15815.644\n",
      "Skew:                          -0.347   Prob(JB):                         0.00\n",
      "Kurtosis:                      21.614   Cond. No.                         856.\n",
      "==============================================================================\n",
      "\n",
      "Warnings:\n",
      "[1] Standard Errors assume that the covariance matrix of the errors is correctly specified.\n"
     ]
    }
   ],
   "source": [
    "lm2 = smf.ols('next_day ~ price_usd + percent_cost', data=df)\n",
    "fit = lm2.fit()\n",
    "print fit.summary()"
   ]
  },
  {
   "cell_type": "markdown",
   "metadata": {},
   "source": [
    "Use statsmodels to plot the residuals."
   ]
  },
  {
   "cell_type": "code",
   "execution_count": 31,
   "metadata": {
    "collapsed": false
   },
   "outputs": [
    {
     "data": {
      "text/plain": [
       "<matplotlib.axes._subplots.AxesSubplot at 0x10e2607d0>"
      ]
     },
     "execution_count": 31,
     "metadata": {},
     "output_type": "execute_result"
    },
    {
     "data": {
      "image/png": "[encoded data removed]",
      "text/plain": [
       "<matplotlib.figure.Figure at 0x10d1d3cd0>"
      ]
     },
     "metadata": {},
     "output_type": "display_data"
    }
   ],
   "source": [
    "fit.resid.plot(style='o', figsize=(12,4))"
   ]
  },
  {
   "cell_type": "markdown",
   "metadata": {},
   "source": [
    "###Linear Regression Analysis"
   ]
  },
  {
   "cell_type": "markdown",
   "metadata": {},
   "source": [
    "Split the data into training and test set."
   ]
  },
  {
   "cell_type": "code",
   "execution_count": 37,
   "metadata": {
    "collapsed": false
   },
   "outputs": [],
   "source": [
    "features = list(set(selected_columns) - set(['next_day']))\n",
    "y = df['next_day']\n",
    "X = df[features]\n",
    "X_train, X_test, y_train, y_test = train_test_split(X, y, test_size=0.3)"
   ]
  },
  {
   "cell_type": "markdown",
   "metadata": {},
   "source": [
    "Define the method to generate a regression model."
   ]
  },
  {
   "cell_type": "code",
   "execution_count": 38,
   "metadata": {
    "collapsed": false
   },
   "outputs": [],
   "source": [
    "def regression_model(predictor):\n",
    "    regressor= LinearRegression()\n",
    "\n",
    "    regressor.fit(X_train[predictor], y_train)\n",
    "    predictions = regressor.predict(X_test[predictor])\n",
    "    mse = sum((predictions - y_test) ** 2) / len(predictions)\n",
    "    score = regressor.score(X_test[predictor], y_test)\n",
    "    \n",
    "    return regressor, predictions, mse, score"
   ]
  },
  {
   "cell_type": "markdown",
   "metadata": {},
   "source": [
    "Define the method to visualize the model statistics. Make scatterplots with the actual values in the training set and test set."
   ]
  },
  {
   "cell_type": "code",
   "execution_count": 39,
   "metadata": {
    "collapsed": true
   },
   "outputs": [],
   "source": [
    "def draw_scatterplot(predictor, regressor, predictions):\n",
    "    plt.scatter(X_test[predictor], y_test)\n",
    "    plt.plot(X_test[predictor], predictions)\n",
    "    plt.show()\n",
    "\n",
    "    \n",
    "def print_stats(title, mse, score):\n",
    "    print 'Predictor: ', title \n",
    "    print 'MSE: ', mse\n",
    "    print 'Score: ', score, \"\\n\"\n",
    "    "
   ]
  },
  {
   "cell_type": "markdown",
   "metadata": {},
   "source": [
    "Try out different models parameters."
   ]
  },
  {
   "cell_type": "code",
   "execution_count": 42,
   "metadata": {
    "collapsed": false
   },
   "outputs": [
    {
     "name": "stdout",
     "output_type": "stream",
     "text": [
      "Predictor:  Exchange Volume in USD\n",
      "MSE:  35045.3891039\n",
      "Score:  0.200870156793 \n",
      "\n",
      "Predictor:  Seven-day moving average of bitcoin price\n",
      "MSE:  1268.43875442\n",
      "Score:  0.97107615898 \n",
      "\n",
      "Predictor:  Three-day moving average of bitcoin price\n",
      "MSE:  727.706393207\n",
      "Score:  0.983406322179 \n",
      "\n",
      "Predictor:  Daily price of bitcoin\n",
      "MSE:  485.663140858\n",
      "Score:  0.98892556426 \n",
      "\n"
     ]
    },
    {
     "data": {
      "image/png": "[encoded data removed]",
      "text/plain": [
       "<matplotlib.figure.Figure at 0x10ec13110>"
      ]
     },
     "metadata": {},
     "output_type": "display_data"
    }
   ],
   "source": [
    "rm , predictions, mse, score = regression_model(['exchange_vol_usd_log'])\n",
    "print_stats('Exchange Volume in USD', mse, score) \n",
    "\n",
    "\n",
    "rm , predictions, mse, score = regression_model(['ma_price_7'])\n",
    "print_stats('Seven-day moving average of bitcoin price', mse, score)\n",
    "\n",
    "rm , predictions, mse, score = regression_model(['ma_price_3'])\n",
    "print_stats('Three-day moving average of bitcoin price', mse, score)\n",
    "\n",
    "rm , predictions, mse, score = regression_model(['price_usd'])\n",
    "print_stats('Daily price of bitcoin', mse, score)\n",
    "draw_scatterplot('price_usd', rm, predictions)\n"
   ]
  },
  {
   "cell_type": "code",
   "execution_count": 43,
   "metadata": {
    "collapsed": false
   },
   "outputs": [
    {
     "name": "stdout",
     "output_type": "stream",
     "text": [
      "Predictor:  Daily price of bitcoin and three-day moving average\n",
      "MSE:  485.908848411\n",
      "Score:  0.988919961462 \n",
      "\n",
      "Predictor:  Daily price of bitcoin, three-day and seven-day moving averages\n",
      "MSE:  486.191465257\n",
      "Score:  0.988913517032 \n",
      "\n"
     ]
    }
   ],
   "source": [
    "rm, predictions, mse, score = regression_model(['price_usd', 'ma_price_3'])\n",
    "print_stats('Daily price of bitcoin and three-day moving average', mse, score)\n",
    "\n",
    "rm, predictions, mse, score = regression_model(['price_usd', 'ma_price_3', 'ma_price_7'])\n",
    "print_stats('Daily price of bitcoin, three-day and seven-day moving averages', mse, score)"
   ]
  },
  {
   "cell_type": "markdown",
   "metadata": {},
   "source": [
    "### Ridge CV"
   ]
  },
  {
   "cell_type": "code",
   "execution_count": 44,
   "metadata": {
    "collapsed": false
   },
   "outputs": [
    {
     "name": "stdout",
     "output_type": "stream",
     "text": [
      "0.991587971592\n",
      "RidgeCV(alphas=(0.1, 1.0, 10.0), cv=10, fit_intercept=True, gcv_mode=None,\n",
      "    normalize=False, scoring=None, store_cv_values=False)\n"
     ]
    }
   ],
   "source": [
    "features = list(set(selected_columns) - set(['next_day']))\n",
    "y = df['next_day']\n",
    "X = df[features]\n",
    "X_train, X_test, y_train, y_test = train_test_split(X, y, test_size=0.3)\n",
    "rcv = RidgeCV(cv=10)\n",
    "rcv.fit(X, y)\n",
    "print rcv.score(X_test, y_test)\n",
    "print rcv"
   ]
  },
  {
   "cell_type": "markdown",
   "metadata": {},
   "source": [
    "###NEXT: FORECASTING"
   ]
  },
  {
   "cell_type": "code",
   "execution_count": null,
   "metadata": {
    "collapsed": true
   },
   "outputs": [],
   "source": []
  }
 ],
 "metadata": {
  "kernelspec": {
   "display_name": "Python 2",
   "language": "python",
   "name": "python2"
  },
  "language_info": {
   "codemirror_mode": {
    "name": "ipython",
    "version": 2
   },
   "file_extension": ".py",
   "mimetype": "text/x-python",
   "name": "python",
   "nbconvert_exporter": "python",
   "pygments_lexer": "ipython2",
   "version": "2.7.9"
  }
 },
 "nbformat": 4,
 "nbformat_minor": 0
}
